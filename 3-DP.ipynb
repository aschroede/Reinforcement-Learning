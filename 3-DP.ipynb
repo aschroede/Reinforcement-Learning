{
 "cells": [
  {
   "cell_type": "markdown",
   "metadata": {
    "collapsed": false,
    "jupyter": {
     "outputs_hidden": false
    }
   },
   "source": [
    "## Reinforcement Learning 3: *Dynamic Programming*\n",
    "\n",
    "This week's workgroups contain some demonstrations, along with hand-written and programming exercises for you to\n",
    "complete. Note that the written exercises are of similar difficulty as those you will encounter in the exam, so use\n",
    "this opportunity to exercise and clarify your doubts with the course's TAs.\n",
    "Solutions to the exercises will be provided after the practicals."
   ]
  },
  {
   "cell_type": "code",
   "execution_count": 1,
   "metadata": {
    "collapsed": false,
    "jupyter": {
     "outputs_hidden": false
    }
   },
   "outputs": [],
   "source": [
    "import numpy as np\n",
    "import matplotlib.pyplot as plt\n",
    "import seaborn as sns\n",
    "from matplotlib.table import Table\n",
    "\n",
    "from IPython.display import Image\n",
    "from IPython.core.display import HTML \n"
   ]
  },
  {
   "cell_type": "markdown",
   "metadata": {},
   "source": [
    "## Refreshing your memory: elements from the previous lectures\n",
    "We use a Markov Decision Process (MDP) to formulize a RL problem, which is described by the tuple \n",
    "$$\\mathcal{M}=\\langle\\mathcal{S},  {\\mathcal{A}}, \\mathcal{P}, \\mathcal{R},\\gamma\\rangle,$$\n",
    "where $\\mathcal S$ is the state space, $\\mathcal A$ is the action space, and $\\mathcal R$ is the reward space. In this course, we assume that $\\mathcal S, \\mathcal A, \\mathcal R$ are all finite sets. Here, $\\mathcal{P}$ defines the dynamics of the MDP, characterizing the state-transition probabilities and reward-generating probabilities. $\\gamma\\in[0,1]$ is the discount factor that trades off later rewards to earlier ones\n",
    "\n",
    "### **Value functions**: total amount of reward an agent can expect to accumulate over the future, starting from that state/state-action pair.\n",
    "\n",
    "`State value funcitons:` (expected return, when stating in $s$ and following policy $\\pi$)\n",
    "$$v_{\\pi}(s) = \\mathbb{E}_{\\pi}\\left[G_{t} \\mid S_{t}=s\\right].$$\n",
    "`(State-)Action value funcitons:` (expected return, when stating in $s$, taking action $a$ and following policy $\\pi$)\n",
    "$$q_{\\pi}(s, a) = \\mathbb{E}_{\\pi}\\left[G_{t} \\mid S_{t}=s, A_{t}=a\\right].$$\n",
    "\n",
    "### **Bellman equations**\n",
    "`For state value:` (connecting the value of a state $s$ to the value of the successor states $s'$ and immediate rewards $r$)\n",
    "\\begin{align}\n",
    "v(s) &\\doteq \\mathbb{E}\\left[G_{t} \\mid S_{t}=s\\right]\\nonumber\\\\\n",
    "&=\\mathbb{E}\\left[R_{t+1}+\\gamma G_{t+1} \\mid S_{t}=s\\right]\\nonumber\\\\\n",
    "&{\\color{red}=\\sum\\limits_{a} \\pi(a \\mid s) \\sum\\limits_{s^{\\prime}, r} p\\left(s^{\\prime}, r \\mid s, a\\right)\\left[r+\\gamma v_{\\pi}\\left(s^{\\prime}\\right)\\right]}, \\quad \\text { for all } s \\in \\mathcal{S} \n",
    "\\end{align}\n",
    "\n",
    "`For action value:` (connecting the value of a state-action pair $(s,a)$ to the value of the successor state-action pairs $(s', a')$ and immediate rewards $r$)\n",
    "\\begin{align*}\n",
    "q_{\\pi}(s, a) &\\doteq \\mathbb{E}_{\\pi}\\left[G_{t} \\mid S_{t}=s, A_{t}=a\\right]\\\\\n",
    "& = \\mathbb{E}_{\\pi}\\left[R_{t+1}+\\gamma G_{t+1} \\mid S_{t}=s, A_{t}=a\\right]\\\\\n",
    "& \\color{red}=\\sum\\limits_{s^{\\prime}, r} p\\left(s^{\\prime}, r \\mid s, a\\right)\\left[r+\\gamma \\sum\\limits_{a'} \\pi(a'\\mid s')q_{\\pi}(s', a')\\right], \\quad \\text { for all } s \\in \\mathcal{S}, a \\in \\mathcal{A}\n",
    "\\end{align*}\n",
    "`Connections between state and action value functions:` \n",
    "\\begin{align*}\n",
    "v_{\\pi}(s)&=\\mathbb{E}_{\\pi}[q_{\\pi}(s,a)]=\\sum\\limits_{a \\in \\mathcal{A}} \\pi(a \\mid s) \\ \\  q_{\\pi}(s, a)\n",
    "\\end{align*}\n",
    "\n",
    "and\n",
    "\\begin{align*}\n",
    "q_{\\pi}(s,a)&=\\mathbb{E}[R_{t+1}+\\gamma v_{\\pi}(S_{t+1}) \\mid S_{t}=s,A_{t}=a]\\\\\n",
    "&=\\sum\\limits_{s',r} p(s',r \\mid s,a) [r+\\gamma v_{\\pi}(s')]\n",
    "\\end{align*}\n",
    "***Note:*** *The relations above can be useful when evaluating the value function of a policy.*\n",
    "\n",
    "### **Bellman optimality equations**\n",
    "There exists a policy that is better than or equal to all other policies. This policy is called an ***optimal policy***.  There can be more than one optimal policies, and we denote them as $\\pi_*$. They share the same value function, which we call optimal state value function and state-action value function, respectively defined as \n",
    "\\begin{align*}\n",
    "&v_*(s)=\\max_\\pi v_\\pi(s), \\text{ for all } s \\in \\mathcal S;\\\\\n",
    "& q_*(s,a) =\\max_\\pi q_\\pi(s,a), \\text{ for all } s \\in \\mathcal S, a \\in \\mathcal A.\n",
    "\\end{align*}\n",
    "\n",
    "\n",
    "`For state value,` the Bellman optimality equation read as $$v_{*}(s)=\\max \\limits_{a} \\sum\\limits_{s^{\\prime}, r} p\\left(s^{\\prime}, r \\mid s, a\\right)\\left[r+\\gamma v_{*}\\left(s^{\\prime}\\right)\\right].$$\n",
    "Intuitively, the Bellman optimality equation expresses the fact that the value of a state under an optimal policy must equal the expected return for the best action from that state.\n",
    "\n",
    "\n",
    "`For action value,` the Bellman optimality equation read as\n",
    "\\begin{align*}\n",
    "q_{*}(s,a)=\\sum\\limits_{s^{\\prime}, r} p\\left(s^{\\prime}, r \\mid s, a\\right)\\left[r+\\gamma \\max\\limits _{a^{\\prime}} q_{*}\\left(s^{\\prime}, a^{\\prime}\\right)\\right]\n",
    "\\end{align*}\n",
    "\n",
    "### **Policy  evaluation**\n",
    "\n",
    "Given a policy $\\pi$, to evaluate the value function, we can use the Bellman equation in `Eq.(1)` iteratively:\n",
    "\n",
    "\\begin{align*}\n",
    "v_{\\color{red}k+1}({\\color{blue}s}) &= \\mathbb{E}_{\\pi}\\left[R_{t+1}+\\gamma v_{\\color{red}k}\\left(S_{t+1}\\right) \\mid S_{t}=s\\right]\\\\\n",
    "&=\\sum\\limits_{a} \\pi(a \\mid s) \\sum\\limits_{{\\color{blue}s'}, r} p\\left({\\color{blue}s'}, r \\mid s, a\\right)\\left[r+\\gamma v_{\\color{red} k}\\left({\\color{blue}s'}\\right)\\right]\n",
    "\\end{align*}\n",
    "where $k=0,1,2, \\dots$ As $k\\to \\infty$, $v_{k}$ will converge to the true value of $\\pi$.\n",
    "\n",
    "### **Policy  improvement**\n",
    "Once the value of a policy has been well evaluated, we can improve it in this way: at all states, we select at each state the action that appears best according to $q_\\pi(s,a)$. That is, consider the new greedy policy $\\pi'$ given by\n",
    "\\begin{align*}\n",
    "\\pi^{\\prime}(s) &\\doteq \\underset{a}{\\arg \\max } \\ \\ q_{\\pi}(s, a)\\\\\n",
    "&=\\underset{a}{\\arg \\max } \\  \\sum\\limits_{s^{\\prime}, r} p\\left(s^{\\prime}, r \\mid s, a\\right)\\left[r+\\gamma v_{\\pi}\\left(s^{\\prime}\\right)\\right].\n",
    "\\end{align*}\n",
    "\n",
    "**Policy iteration:** *By alternating between policy evaluation and policy improvement, one can find the optimal policy.*\n",
    "\n",
    "Check the slides and the textbook for `value interation` and `asynchronous dynamical programming`."
   ]
  },
  {
   "cell_type": "markdown",
   "metadata": {
    "collapsed": false,
    "jupyter": {
     "outputs_hidden": false
    }
   },
   "source": [
    "---\n",
    "## 1. Grid World\n",
    "\n",
    "Recall the GridWorld example covered in the course lecture:\n",
    "\n",
    "![Grid World](https://raw.githubusercontent.com/yuzhenqin90/RLcourse/main/WG3/Lec3-grid-world.png \"Grid World Example\")\n",
    "\n",
    "\n",
    "**References:**\n",
    "- Sutton & Barto, Ch.4, p. 76 (example 4.1)\n"
   ]
  },
  {
   "cell_type": "code",
   "execution_count": 2,
   "metadata": {
    "collapsed": false,
    "jupyter": {
     "outputs_hidden": false
    }
   },
   "outputs": [],
   "source": [
    "# Let's define the GridWorld MDP\n",
    "class GridWorld:\n",
    "    # example 1 in DP\n",
    "    def __init__(self, grid_size, actions):\n",
    "        self.grid_size = grid_size\n",
    "        self.actions = actions\n",
    "\n",
    "    def is_terminal(self, state):\n",
    "        x, y = state\n",
    "        return (x == 0 and y == 0) or (x == self.grid_size - 1 and y == self.grid_size - 1)\n",
    "\n",
    "    def step(self, state, action):\n",
    "        if self.is_terminal(state):\n",
    "            return state, 0\n",
    "        next_state = (np.array(state) + action).tolist()\n",
    "        x, y = next_state\n",
    "        if x < 0 or x >= self.grid_size or y < 0 or y >= self.grid_size:\n",
    "            next_state = state\n",
    "        reward = -1\n",
    "        return next_state, reward\n",
    "\n",
    "    @staticmethod\n",
    "    def draw(image):\n",
    "        fig, ax = plt.subplots()\n",
    "        ax.set_axis_off()\n",
    "        tb = Table(ax, bbox=[0, 0, 1, 1])\n",
    "\n",
    "        nrows, ncols = image.shape\n",
    "        width, height = 1.0 / ncols, 1.0 / nrows\n",
    "\n",
    "        # Add cells\n",
    "        for (i, j), val in np.ndenumerate(image):\n",
    "            tb.add_cell(i, j, width, height, text=val,\n",
    "                        loc='center', facecolor='white')\n",
    "\n",
    "            # Row and column labels...\n",
    "        for i in range(len(image)):\n",
    "            tb.add_cell(i, -1, width, height, text=i+1, loc='right',\n",
    "                        edgecolor='none', facecolor='none')\n",
    "            tb.add_cell(-1, i, width, height/2, text=i+1, loc='center',\n",
    "                        edgecolor='none', facecolor='none')\n",
    "        ax.add_table(tb)\n",
    "\n",
    "    def compute_state_value(self, action_prob, in_place=True, discount=1.0):\n",
    "        new_state_values = np.zeros((self.grid_size, self.grid_size))\n",
    "        iteration = 0\n",
    "        while True:\n",
    "            if in_place:\n",
    "                state_values = new_state_values\n",
    "            else:\n",
    "                state_values = new_state_values.copy()\n",
    "            old_state_values = state_values.copy()\n",
    "\n",
    "            for i in range(self.grid_size):\n",
    "                for j in range(self.grid_size):\n",
    "                    value = 0\n",
    "                    for action in self.actions:\n",
    "                        (next_i, next_j), reward = self.step([i, j], action)\n",
    "                        value += action_prob * (reward + discount * state_values[next_i, next_j])\n",
    "                    new_state_values[i, j] = value\n",
    "            max_delta_value = abs(old_state_values - new_state_values).max()\n",
    "            if max_delta_value < 1e-4:\n",
    "                break\n",
    "            iteration += 1\n",
    "        return new_state_values, iteration"
   ]
  },
  {
   "cell_type": "code",
   "execution_count": 3,
   "metadata": {
    "collapsed": false,
    "jupyter": {
     "outputs_hidden": false
    }
   },
   "outputs": [],
   "source": [
    "grid_size = 4\n",
    "# left, up, right, down\n",
    "actions = [np.array([0, -1]),\n",
    "           np.array([-1, 0]),\n",
    "           np.array([0, 1]),\n",
    "           np.array([1, 0])]\n",
    "policy = 0.25\n",
    "\n",
    "# instantiate the GridWorld\n",
    "gw = GridWorld(grid_size=grid_size, actions=actions)"
   ]
  },
  {
   "cell_type": "markdown",
   "metadata": {
    "collapsed": false,
    "jupyter": {
     "outputs_hidden": false
    }
   },
   "source": [
    "**a**) Evaluate the state-value function, using synchronous and asynchronous (in-place) updates. How many iterations do the algorithms take to converge?\n",
    "\n",
    "***Note:*** This part just helps you understand the difference between synchronous and asynchronous algorithms."
   ]
  },
  {
   "cell_type": "code",
   "execution_count": 4,
   "metadata": {
    "collapsed": false,
    "jupyter": {
     "outputs_hidden": false
    }
   },
   "outputs": [
    {
     "data": {
      "image/png": "[encoded data removed]",
      "text/plain": [
       "<Figure size 432x288 with 1 Axes>"
      ]
     },
     "metadata": {
      "needs_background": "light"
     },
     "output_type": "display_data"
    }
   ],
   "source": [
    "async_values, async_iteration = gw.compute_state_value(action_prob=policy, in_place=True)\n",
    "gw.draw(np.round(async_values, 2))"
   ]
  },
  {
   "cell_type": "code",
   "execution_count": 5,
   "metadata": {
    "collapsed": false,
    "jupyter": {
     "outputs_hidden": false
    }
   },
   "outputs": [
    {
     "data": {
      "image/png": "[encoded data removed]",
      "text/plain": [
       "<Figure size 432x288 with 1 Axes>"
      ]
     },
     "metadata": {
      "needs_background": "light"
     },
     "output_type": "display_data"
    }
   ],
   "source": [
    "sync_values, sync_iteration = gw.compute_state_value(action_prob=policy, in_place=False)\n",
    "gw.draw(np.round(sync_values, 2))"
   ]
  },
  {
   "cell_type": "code",
   "execution_count": 6,
   "metadata": {
    "collapsed": false,
    "jupyter": {
     "outputs_hidden": false
    }
   },
   "outputs": [
    {
     "name": "stdout",
     "output_type": "stream",
     "text": [
      "In-place: 113 iterations\n",
      "Synchronous: 172 iterations\n"
     ]
    }
   ],
   "source": [
    "print('In-place: {} iterations'.format(async_iteration))\n",
    "print('Synchronous: {} iterations'.format(sync_iteration))"
   ]
  },
  {
   "cell_type": "markdown",
   "metadata": {
    "collapsed": false,
    "jupyter": {
     "outputs_hidden": false
    }
   },
   "source": [
    "## **b**) **Pen+Paper exercises** (in all exercises below, assume $\\gamma=1$)."
   ]
  },
  {
   "cell_type": "markdown",
   "metadata": {
    "collapsed": false,
    "jupyter": {
     "outputs_hidden": false
    }
   },
   "source": [
    "**b.1**) If the initial policy $\\pi$ is the equiprobable random policy, i.e. $\\pi(a\\mid s)=0.25,\n",
    "\\forall a\n",
    "\\in \\mathcal{A}, s\\in\\mathcal{S}$, calculate the value of being in state 11 and taking action $\\texttt{down}$, $q_{\\pi}\n",
    "(11, \\texttt{down})$."
   ]
  },
  {
   "cell_type": "markdown",
   "metadata": {},
   "source": []
  },
  {
   "cell_type": "markdown",
   "metadata": {
    "collapsed": false,
    "jupyter": {
     "outputs_hidden": false
    }
   },
   "source": [
    "**b.2**) What is the value of being in state 7 and taking action $\\texttt{down}$?"
   ]
  },
  {
   "cell_type": "markdown",
   "metadata": {},
   "source": []
  },
  {
   "cell_type": "markdown",
   "metadata": {
    "collapsed": false,
    "jupyter": {
     "outputs_hidden": false
    }
   },
   "source": [
    "**b.3**) Suppose a new state is added to the gridworld below state 13 and the actions that can be taken from that\n",
    "state are the same as from any other state and take the agent to: $a = \\texttt{up} \\rightarrow s'=13$, $a =\n",
    "\\texttt{left} \\rightarrow\n",
    "s'=12$, $a = \\texttt{right} \\rightarrow s'=14$, $a = \\texttt{down} \\rightarrow s'=15$. Assume that all transitions from the\n",
    "original states are unchanged. What is $v_{\\pi}(15)$ for the equiprobable random policy?"
   ]
  },
  {
   "cell_type": "code",
   "execution_count": null,
   "metadata": {
    "collapsed": false,
    "jupyter": {
     "outputs_hidden": false
    }
   },
   "outputs": [],
   "source": []
  },
  {
   "cell_type": "markdown",
   "metadata": {
    "collapsed": false,
    "jupyter": {
     "outputs_hidden": false
    }
   },
   "source": [
    "**b.4**) Now suppose the dynamics for state 13 are also changed by the existence of the new state 15. Now, being in\n",
    "state 13 and moving $\\texttt{down}$ takes the agent to state 15. What is the value of state 15, $v_{\\pi}(15)?"
   ]
  },
  {
   "cell_type": "code",
   "execution_count": null,
   "metadata": {
    "collapsed": false,
    "jupyter": {
     "outputs_hidden": false
    }
   },
   "outputs": [],
   "source": []
  },
  {
   "cell_type": "markdown",
   "metadata": {
    "collapsed": false,
    "jupyter": {
     "outputs_hidden": false
    }
   },
   "source": [
    "**b.5**) Under the changes done in b.4, what is the value of state 13, $v_{\\pi}(13)$?"
   ]
  },
  {
   "cell_type": "code",
   "execution_count": null,
   "metadata": {
    "collapsed": false,
    "jupyter": {
     "outputs_hidden": false
    }
   },
   "outputs": [],
   "source": []
  },
  {
   "cell_type": "markdown",
   "metadata": {
    "collapsed": false,
    "jupyter": {
     "outputs_hidden": false
    }
   },
   "source": [
    "**c**) **Challenge** Re-implement the GridWorld as a `gym` environment and perform synchronous and asynchronous value iteration. If you feel adventurous, you can try to add proper rendering to show the position of the agent in the grid-world. \n",
    "\n",
    "***Note:*** This is optional and will not be graded."
   ]
  },
  {
   "cell_type": "code",
   "execution_count": null,
   "metadata": {
    "collapsed": false,
    "jupyter": {
     "outputs_hidden": false
    }
   },
   "outputs": [],
   "source": []
  },
  {
   "cell_type": "markdown",
   "metadata": {
    "collapsed": false,
    "jupyter": {
     "outputs_hidden": false
    }
   },
   "source": [
    "---\n",
    "## 2. Jack's car rental\n",
    "\n",
    "Jack manages two rental car locations as part of a nationwide car rental company. The two locations have varying levels of demand (car rentals per day) and return rate. Since one of the locations has more demand than return rates, Jack can move cars overnight from one location to the other. To run a profitable business, Jack needs to make sure he has enough cars at each lot to maximize the total return.\n",
    "\n",
    "The problem is then: how many cars should Jack move from one location to the other, given that each location has a limited capacity of 20 cars? Additionally, we want to determine the return: how much is Jack expected to earn from his business?\n",
    "\n",
    "**Problem summary:**\n",
    "<img alt=\"Grid world MDP\" height=\"400\" src=\"https://raw.githubusercontent.com/yuzhenqin90/RLcourse/main/WG3/CarRental.png\" title=\"Grid World\" width=\"600\"/>\n",
    "\n",
    "**Note:** The time step for this problem corresponds to a day, the *state* is the number of cars at each location at the end of the day and the *actions* are the net number of cars moved between the two locations overnight. From the number of cars at each location, we can determine the expected return, which, in this case, is influenced by a Poisson random distribution (which we use to weight the possible returns). We will be using a discounting factor $\\gamma=0.9$.\n",
    "\n",
    "**References:**\n",
    "- Sutton & Barto, Ch.4, p. 81 (example 4.2)\n",
    "- David Silver RL lectures: [Lecture 3](https://www.davidsilver.uk/wp-content/uploads/2020/03/DP.pdf)\n",
    "- [Explained example](https://medium.com/@jaems33/this-is-start-of-my-exploration-into-learning-about-reinforcement-learning-d505a68a2d6)\n"
   ]
  },
  {
   "cell_type": "code",
   "execution_count": 7,
   "metadata": {
    "collapsed": false,
    "jupyter": {
     "outputs_hidden": false
    }
   },
   "outputs": [
    {
     "name": "stdout",
     "output_type": "stream",
     "text": [
      "States: [[0, 0], [0, 1], [0, 2], [0, 3], [0, 4], [0, 5], [0, 6], [0, 7], [0, 8], [0, 9], [0, 10], [0, 11], [0, 12], [0, 13], [0, 14], [0, 15], [0, 16], [0, 17], [0, 18], [0, 19], [0, 20], [1, 0], [1, 1], [1, 2], [1, 3], [1, 4], [1, 5], [1, 6], [1, 7], [1, 8], [1, 9], [1, 10], [1, 11], [1, 12], [1, 13], [1, 14], [1, 15], [1, 16], [1, 17], [1, 18], [1, 19], [1, 20], [2, 0], [2, 1], [2, 2], [2, 3], [2, 4], [2, 5], [2, 6], [2, 7], [2, 8], [2, 9], [2, 10], [2, 11], [2, 12], [2, 13], [2, 14], [2, 15], [2, 16], [2, 17], [2, 18], [2, 19], [2, 20], [3, 0], [3, 1], [3, 2], [3, 3], [3, 4], [3, 5], [3, 6], [3, 7], [3, 8], [3, 9], [3, 10], [3, 11], [3, 12], [3, 13], [3, 14], [3, 15], [3, 16], [3, 17], [3, 18], [3, 19], [3, 20], [4, 0], [4, 1], [4, 2], [4, 3], [4, 4], [4, 5], [4, 6], [4, 7], [4, 8], [4, 9], [4, 10], [4, 11], [4, 12], [4, 13], [4, 14], [4, 15], [4, 16], [4, 17], [4, 18], [4, 19], [4, 20], [5, 0], [5, 1], [5, 2], [5, 3], [5, 4], [5, 5], [5, 6], [5, 7], [5, 8], [5, 9], [5, 10], [5, 11], [5, 12], [5, 13], [5, 14], [5, 15], [5, 16], [5, 17], [5, 18], [5, 19], [5, 20], [6, 0], [6, 1], [6, 2], [6, 3], [6, 4], [6, 5], [6, 6], [6, 7], [6, 8], [6, 9], [6, 10], [6, 11], [6, 12], [6, 13], [6, 14], [6, 15], [6, 16], [6, 17], [6, 18], [6, 19], [6, 20], [7, 0], [7, 1], [7, 2], [7, 3], [7, 4], [7, 5], [7, 6], [7, 7], [7, 8], [7, 9], [7, 10], [7, 11], [7, 12], [7, 13], [7, 14], [7, 15], [7, 16], [7, 17], [7, 18], [7, 19], [7, 20], [8, 0], [8, 1], [8, 2], [8, 3], [8, 4], [8, 5], [8, 6], [8, 7], [8, 8], [8, 9], [8, 10], [8, 11], [8, 12], [8, 13], [8, 14], [8, 15], [8, 16], [8, 17], [8, 18], [8, 19], [8, 20], [9, 0], [9, 1], [9, 2], [9, 3], [9, 4], [9, 5], [9, 6], [9, 7], [9, 8], [9, 9], [9, 10], [9, 11], [9, 12], [9, 13], [9, 14], [9, 15], [9, 16], [9, 17], [9, 18], [9, 19], [9, 20], [10, 0], [10, 1], [10, 2], [10, 3], [10, 4], [10, 5], [10, 6], [10, 7], [10, 8], [10, 9], [10, 10], [10, 11], [10, 12], [10, 13], [10, 14], [10, 15], [10, 16], [10, 17], [10, 18], [10, 19], [10, 20], [11, 0], [11, 1], [11, 2], [11, 3], [11, 4], [11, 5], [11, 6], [11, 7], [11, 8], [11, 9], [11, 10], [11, 11], [11, 12], [11, 13], [11, 14], [11, 15], [11, 16], [11, 17], [11, 18], [11, 19], [11, 20], [12, 0], [12, 1], [12, 2], [12, 3], [12, 4], [12, 5], [12, 6], [12, 7], [12, 8], [12, 9], [12, 10], [12, 11], [12, 12], [12, 13], [12, 14], [12, 15], [12, 16], [12, 17], [12, 18], [12, 19], [12, 20], [13, 0], [13, 1], [13, 2], [13, 3], [13, 4], [13, 5], [13, 6], [13, 7], [13, 8], [13, 9], [13, 10], [13, 11], [13, 12], [13, 13], [13, 14], [13, 15], [13, 16], [13, 17], [13, 18], [13, 19], [13, 20], [14, 0], [14, 1], [14, 2], [14, 3], [14, 4], [14, 5], [14, 6], [14, 7], [14, 8], [14, 9], [14, 10], [14, 11], [14, 12], [14, 13], [14, 14], [14, 15], [14, 16], [14, 17], [14, 18], [14, 19], [14, 20], [15, 0], [15, 1], [15, 2], [15, 3], [15, 4], [15, 5], [15, 6], [15, 7], [15, 8], [15, 9], [15, 10], [15, 11], [15, 12], [15, 13], [15, 14], [15, 15], [15, 16], [15, 17], [15, 18], [15, 19], [15, 20], [16, 0], [16, 1], [16, 2], [16, 3], [16, 4], [16, 5], [16, 6], [16, 7], [16, 8], [16, 9], [16, 10], [16, 11], [16, 12], [16, 13], [16, 14], [16, 15], [16, 16], [16, 17], [16, 18], [16, 19], [16, 20], [17, 0], [17, 1], [17, 2], [17, 3], [17, 4], [17, 5], [17, 6], [17, 7], [17, 8], [17, 9], [17, 10], [17, 11], [17, 12], [17, 13], [17, 14], [17, 15], [17, 16], [17, 17], [17, 18], [17, 19], [17, 20], [18, 0], [18, 1], [18, 2], [18, 3], [18, 4], [18, 5], [18, 6], [18, 7], [18, 8], [18, 9], [18, 10], [18, 11], [18, 12], [18, 13], [18, 14], [18, 15], [18, 16], [18, 17], [18, 18], [18, 19], [18, 20], [19, 0], [19, 1], [19, 2], [19, 3], [19, 4], [19, 5], [19, 6], [19, 7], [19, 8], [19, 9], [19, 10], [19, 11], [19, 12], [19, 13], [19, 14], [19, 15], [19, 16], [19, 17], [19, 18], [19, 19], [19, 20], [20, 0], [20, 1], [20, 2], [20, 3], [20, 4], [20, 5], [20, 6], [20, 7], [20, 8], [20, 9], [20, 10], [20, 11], [20, 12], [20, 13], [20, 14], [20, 15], [20, 16], [20, 17], [20, 18], [20, 19], [20, 20]]\n",
      "Actions: [-5 -4 -3 -2 -1  0  1  2  3  4  5]\n"
     ]
    }
   ],
   "source": [
    "# parameters\n",
    "max_cars = 20 # maximum # of cars in each location\n",
    "max_move = 5  # maximum # of cars to move overnight\n",
    "requests_loc1 = 3 # expectation for rental requests in first location\n",
    "returns_loc1 = 3 # expectation for # of cars returned in 1st location\n",
    "requests_loc2 = 4 # expectation for rental requests in second location\n",
    "returns_loc2 = 2 # expectation for # of cars returned in 2nd location\n",
    "\n",
    "discount = 0.9\n",
    "\n",
    "reward = 10 # credit earned by renting a car\n",
    "move_cost = 2 # cost of moving a car\n",
    "\n",
    "# states (# cars in loc1, # cars in loc2)\n",
    "states = []\n",
    "for i in range(max_cars+1):\n",
    "    for j in range(max_cars+1):\n",
    "        states.append([i, j])\n",
    "\n",
    "# action space (how many cars to move from loc1->loc2 (>0) or from loc2->loc1 (<0))\n",
    "actions = np.arange(-max_move, max_move + 1)\n",
    "\n",
    "print(f\"States: {states}\")\n",
    "print(f\"Actions: {actions}\")"
   ]
  },
  {
   "cell_type": "markdown",
   "metadata": {
    "collapsed": false,
    "jupyter": {
     "outputs_hidden": false
    }
   },
   "source": [
    "Note that the problem refers the average number of events (car requests and returns, which directly change the state), but the precise value at any given point in time is a Poisson-distributed random variable. With this information, we can determine the likelihood of a given outcome (e.g. x cars rented from `loc1`). Given that the Poisson distribution is unbounded (infinite upper limit), we also need to clip it. We know that the average requests and returns are $(3, 3)$ and $(4, 2)$ for `loc1` and `loc2`, respectively. From the properties of a Poisson distribution, the likelihood of the actual request or return being $>10$ is minuscule, so we will clip the distribution at 11."
   ]
  },
  {
   "cell_type": "code",
   "execution_count": 9,
   "metadata": {
    "collapsed": false,
    "jupyter": {
     "outputs_hidden": false
    }
   },
   "outputs": [],
   "source": [
    "from scipy.stats import poisson\n",
    "poisson_cache = dict()\n",
    "def poisson_probability(n, lam):\n",
    "    global poisson_cache\n",
    "    key = n * 10 + lam\n",
    "    if key not in poisson_cache:\n",
    "        poisson_cache[key] = poisson.pmf(n, lam)\n",
    "    return poisson_cache[key]\n",
    "poisson_upper_bound = 11"
   ]
  },
  {
   "cell_type": "markdown",
   "metadata": {
    "collapsed": false,
    "jupyter": {
     "outputs_hidden": false
    }
   },
   "source": [
    "Next, we need to define how to calculate the expected return based on the costs involved."
   ]
  },
  {
   "cell_type": "code",
   "execution_count": 10,
   "metadata": {
    "collapsed": false,
    "jupyter": {
     "outputs_hidden": false
    }
   },
   "outputs": [],
   "source": [
    "def expected_return(state, action, state_value, constant_returned_cars):\n",
    "    returns = 0.0\n",
    "    # cost for moving cars\n",
    "    returns -= move_cost * abs(action)\n",
    "    # moving cars\n",
    "    n_loc1 = min(state[0] - action, max_cars)\n",
    "    n_loc2 = min(state[1] + action, max_cars)\n",
    "\n",
    "    # go through all possible rental requests\n",
    "    for rental_request_first_loc in range(poisson_upper_bound):\n",
    "        for rental_request_second_loc in range(poisson_upper_bound):\n",
    "            # probability for current combination of rental requests\n",
    "            prob = poisson_probability(rental_request_first_loc, requests_loc1) * poisson_probability(rental_request_second_loc, requests_loc2)\n",
    "\n",
    "            n_loc1_ = n_loc1\n",
    "            n_loc2_ = n_loc2\n",
    "\n",
    "            # valid rental requests should be less than actual # of cars\n",
    "            valid_rental_first_loc = min(n_loc1, rental_request_first_loc)\n",
    "            valid_rental_second_loc = min(n_loc2, rental_request_second_loc)\n",
    "\n",
    "            # get credits for renting\n",
    "            rwd = (valid_rental_first_loc + valid_rental_second_loc) * reward\n",
    "            n_loc1_ -= valid_rental_first_loc\n",
    "            n_loc2_ -= valid_rental_second_loc\n",
    "\n",
    "            if constant_returned_cars:\n",
    "                # get returned cars, those cars can be used for renting tomorrow\n",
    "                returned_cars_first_loc = returns_loc1\n",
    "                returned_cars_second_loc = returns_loc2\n",
    "                num_of_cars_first_loc = min(n_loc1_ + returned_cars_first_loc, max_cars)\n",
    "                num_of_cars_second_loc = min(n_loc2_ + returned_cars_second_loc, max_cars)\n",
    "                returns += prob * (rwd + discount * state_value[num_of_cars_first_loc, num_of_cars_second_loc])\n",
    "            else:\n",
    "                for returned_cars_first_loc in range(poisson_upper_bound):\n",
    "                    for returned_cars_second_loc in range(poisson_upper_bound):\n",
    "                        prob_return = poisson_probability(\n",
    "                            returned_cars_first_loc, returns_loc1) * poisson_probability(returned_cars_second_loc, returns_loc2)\n",
    "                        num_of_cars_first_loc_ = min(n_loc1_ + returned_cars_first_loc, max_cars)\n",
    "                        num_of_cars_second_loc_ = min(n_loc2_ + returned_cars_second_loc, max_cars)\n",
    "                        prob_ = prob_return * prob\n",
    "                        returns += prob_ * (rwd + discount * state_value[num_of_cars_first_loc_, num_of_cars_second_loc_])\n",
    "    return returns"
   ]
  },
  {
   "cell_type": "markdown",
   "metadata": {
    "collapsed": false,
    "jupyter": {
     "outputs_hidden": false
    }
   },
   "source": [
    "Now, we can find the optimal policy, using policy iteration (policy evaluation, policy improvement)."
   ]
  },
  {
   "cell_type": "code",
   "execution_count": 11,
   "metadata": {
    "collapsed": false,
    "jupyter": {
     "outputs_hidden": false
    }
   },
   "outputs": [],
   "source": [
    "# initial policy and state-values\n",
    "value = np.zeros((max_cars + 1, max_cars + 1))\n",
    "policy = np.zeros(value.shape, dtype=int)\n",
    "constant_returned_cars = True"
   ]
  },
  {
   "cell_type": "code",
   "execution_count": 12,
   "metadata": {
    "collapsed": false,
    "jupyter": {
     "outputs_hidden": false
    }
   },
   "outputs": [
    {
     "name": "stdout",
     "output_type": "stream",
     "text": [
      "max value change 196.62783361783852\n",
      "max value change 134.98823859766583\n",
      "max value change 91.41415360228919\n",
      "max value change 67.17097732555729\n",
      "max value change 51.29055484635097\n",
      "max value change 38.49091000659837\n",
      "max value change 29.406139835126424\n",
      "max value change 25.7210573245398\n",
      "max value change 22.381602293031023\n",
      "max value change 19.40385808254939\n",
      "max value change 16.77577350573091\n",
      "max value change 14.47251552455765\n",
      "max value change 12.464101852186843\n",
      "max value change 10.719367983418692\n",
      "max value change 9.20806226246873\n",
      "max value change 7.9019189666795455\n",
      "max value change 6.775146571130392\n",
      "max value change 5.8045764710083745\n",
      "max value change 4.969618520007145\n",
      "max value change 4.252112693842776\n",
      "max value change 3.6361309524054946\n",
      "max value change 3.107761240497666\n",
      "max value change 2.654891834022692\n",
      "max value change 2.26700589940549\n",
      "max value change 1.9349911763441128\n",
      "max value change 1.650966802154585\n",
      "max value change 1.4081276418079938\n",
      "max value change 1.2006055672075036\n",
      "max value change 1.02334664187498\n",
      "max value change 0.8720029351049448\n",
      "max value change 0.7428376083516355\n",
      "max value change 0.6326419232035505\n",
      "max value change 0.5386628774742235\n",
      "max value change 0.45854026040933604\n",
      "max value change 0.3902520158000584\n",
      "max value change 0.33206690395809346\n",
      "max value change 0.28250355471067223\n",
      "max value change 0.2402951004837064\n",
      "max value change 0.20435866938208846\n",
      "max value change 0.1737691018435612\n",
      "max value change 0.14773633074884174\n",
      "max value change 0.12558593365213255\n",
      "max value change 0.10674242749371388\n",
      "max value change 0.09071493100810812\n",
      "max value change 0.07708486873008269\n",
      "max value change 0.06549543334426744\n",
      "max value change 0.05564256088280217\n",
      "max value change 0.047267206266042194\n",
      "max value change 0.040148735572074656\n",
      "max value change 0.03409927655258116\n",
      "max value change 0.028958890796900505\n",
      "max value change 0.02459144993093787\n",
      "max value change 0.02088111467702447\n",
      "max value change 0.01772932984539466\n",
      "max value change 0.0150522606048753\n",
      "max value change 0.012778605996800252\n",
      "max value change 0.010847734796413988\n",
      "max value change 0.00920809667559297\n",
      "max value change 0.007815868406908066\n",
      "max value change 0.006633800647819044\n",
      "max value change 0.005630235829983121\n",
      "max value change 0.0047782719802853535\n",
      "max value change 0.004055050928627679\n",
      "max value change 0.003441152547054571\n",
      "max value change 0.002920079317334512\n",
      "max value change 0.0024778178350288727\n",
      "max value change 0.0021024658457236\n",
      "max value change 0.0017839150607983356\n",
      "max value change 0.0015135814573454809\n",
      "max value change 0.0012841759864272717\n",
      "max value change 0.0010895096651211134\n",
      "max value change 0.0009243279118891223\n",
      "max value change 0.0007841697620847299\n",
      "max value change 0.000665248240920846\n",
      "max value change 0.0005643487139082026\n",
      "max value change 0.00047874254232738167\n",
      "max value change 0.00040611372588728045\n",
      "max value change 0.0003444966009737982\n",
      "max value change 0.000292222921245866\n",
      "max value change 0.0002478769196159192\n",
      "max value change 0.00021025715051337102\n",
      "max value change 0.00017834408060934948\n",
      "max value change 0.00015127258103575514\n",
      "max value change 0.00012830856951495662\n",
      "max value change 0.00010882917825938421\n",
      "max value change 9.230592559106299e-05\n",
      "policy stable False\n",
      "max value change 72.93565506480746\n",
      "max value change 5.771584637253568\n",
      "max value change 2.1472970104344995\n",
      "max value change 1.070365975080108\n",
      "max value change 0.8619106467957636\n",
      "max value change 0.7181428891676092\n",
      "max value change 0.611364010490604\n",
      "max value change 0.5169059906119742\n",
      "max value change 0.4358272831748309\n",
      "max value change 0.3670218562992318\n",
      "max value change 0.30890785349942007\n",
      "max value change 0.259927010978231\n",
      "max value change 0.21868429274547907\n",
      "max value change 0.18397356667821896\n",
      "max value change 0.15476712387498992\n",
      "max value change 0.1301950284682789\n",
      "max value change 0.10952318723241206\n",
      "max value change 0.09213308201026393\n",
      "max value change 0.07750397308279844\n",
      "max value change 0.065197614125168\n",
      "max value change 0.054845259444334715\n",
      "max value change 0.046136675532011395\n",
      "max value change 0.038810871455780216\n",
      "max value change 0.03264828952961807\n",
      "max value change 0.02746423075132043\n",
      "max value change 0.02310332179803254\n",
      "max value change 0.019434859485443212\n",
      "max value change 0.016348893962117472\n",
      "max value change 0.013752933586260951\n",
      "max value change 0.011569172929284832\n",
      "max value change 0.009732160858675343\n",
      "max value change 0.008186838889457704\n",
      "max value change 0.006886890992063854\n",
      "max value change 0.005793355427499591\n",
      "max value change 0.004873456997415815\n",
      "max value change 0.004099624717810002\n",
      "max value change 0.003448665460666689\n",
      "max value change 0.0029010688248831684\n",
      "max value change 0.0024404223665897007\n",
      "max value change 0.002052919695017863\n",
      "max value change 0.0017269466670768452\n",
      "max value change 0.0014527332954799022\n",
      "max value change 0.0012220609166320173\n",
      "max value change 0.001028015870474519\n",
      "max value change 0.0008647822832017482\n",
      "max value change 0.000727467756007627\n",
      "max value change 0.0006119567266296144\n",
      "max value change 0.0005147871261783621\n",
      "max value change 0.0004330466088617868\n",
      "max value change 0.00036428526584586507\n",
      "max value change 0.0003064422000988998\n",
      "max value change 0.0002577837491344326\n",
      "max value change 0.00021685153535599966\n",
      "max value change 0.00018241874482782805\n",
      "max value change 0.00015345336976224644\n",
      "max value change 0.00012908726307614415\n",
      "max value change 0.00010859013127628714\n",
      "max value change 9.134763803331225e-05\n",
      "policy stable False\n",
      "max value change 4.7865793901779625\n",
      "max value change 3.2947349349497017\n",
      "max value change 2.2411823866665372\n",
      "max value change 1.616931343950455\n",
      "max value change 1.1197864003121367\n",
      "max value change 0.7204544260453076\n",
      "max value change 0.443826224180043\n",
      "max value change 0.270089591177225\n",
      "max value change 0.16639579119885184\n",
      "max value change 0.1097569388878128\n",
      "max value change 0.09306955083684443\n",
      "max value change 0.07883243113371918\n",
      "max value change 0.06673516197616891\n",
      "max value change 0.05647744756430484\n",
      "max value change 0.04778890580797679\n",
      "max value change 0.04043363544485601\n",
      "max value change 0.03420889623009771\n",
      "max value change 0.02894175601244342\n",
      "max value change 0.0244852782967655\n",
      "max value change 0.020714866829109724\n",
      "max value change 0.01752498189301832\n",
      "max value change 0.014826276628639334\n",
      "max value change 0.01254313570910881\n",
      "max value change 0.010611575530163009\n",
      "max value change 0.008977459770164842\n",
      "max value change 0.00759498609147613\n",
      "max value change 0.006425404193464601\n",
      "max value change 0.005435930515432119\n",
      "max value change 0.004598829696703888\n",
      "max value change 0.00389063733302919\n",
      "max value change 0.003291502340118768\n",
      "max value change 0.0027846305547996053\n",
      "max value change 0.0023558140037494013\n",
      "max value change 0.0019930326484427496\n",
      "max value change 0.0016861174636346732\n",
      "max value change 0.0014264653930240456\n",
      "max value change 0.001206798198722936\n",
      "max value change 0.0010209584465883381\n",
      "max value change 0.0008637369118673632\n",
      "max value change 0.0007307265586291578\n",
      "max value change 0.0006181990110007973\n",
      "max value change 0.0005230000359119913\n",
      "max value change 0.00044246113805002096\n",
      "max value change 0.00037432475153309497\n",
      "max value change 0.00031668096374914967\n",
      "max value change 0.0002679139766428307\n",
      "max value change 0.00022665681694888917\n",
      "max value change 0.00019175301355289776\n",
      "max value change 0.00016222418821598694\n",
      "max value change 0.00013724262737468962\n",
      "max value change 0.00011610807808892787\n",
      "max value change 9.822812404536307e-05\n",
      "policy stable False\n",
      "max value change 0.5643315459673204\n",
      "max value change 0.19760617142037518\n",
      "max value change 0.10013580858492332\n",
      "max value change 0.06076229858263105\n",
      "max value change 0.04080851176706801\n",
      "max value change 0.02724975517776329\n",
      "max value change 0.01637959485265128\n",
      "max value change 0.00917172069227945\n",
      "max value change 0.0049277609952014245\n",
      "max value change 0.0025834353657501197\n",
      "max value change 0.0013420404746966597\n",
      "max value change 0.0007016294298409775\n",
      "max value change 0.00037558255417025066\n",
      "max value change 0.00020989058543818828\n",
      "max value change 0.00013043237390775175\n",
      "max value change 0.00011051700198549952\n",
      "max value change 9.361574132071837e-05\n",
      "policy stable False\n",
      "max value change 0.04079438312567163\n",
      "max value change 0.010408227162770345\n",
      "max value change 0.005110707129347247\n",
      "max value change 0.0032318390198042835\n",
      "max value change 0.0021719229242762594\n",
      "max value change 0.0013911772695109903\n",
      "max value change 0.0008154469392138708\n",
      "max value change 0.0004459807777266178\n",
      "max value change 0.0002340408432246477\n",
      "max value change 0.00012037610895276885\n",
      "max value change 6.173777182993945e-05\n",
      "policy stable True\n"
     ]
    },
    {
     "data": {
      "image/png": "[encoded data removed]",
      "text/plain": [
       "<Figure size 2880x1440 with 12 Axes>"
      ]
     },
     "metadata": {
      "needs_background": "light"
     },
     "output_type": "display_data"
    }
   ],
   "source": [
    "iterations = 0\n",
    "_, axes = plt.subplots(2, 3, figsize=(40, 20))\n",
    "plt.subplots_adjust(wspace=0.1, hspace=0.2)\n",
    "axes = axes.flatten()\n",
    "while True:\n",
    "    fig = sns.heatmap(np.flipud(policy), cmap=\"YlGnBu\", ax=axes[iterations])\n",
    "    fig.set_ylabel('# cars at first location', fontsize=30)\n",
    "    fig.set_yticks(list(reversed(range(max_cars + 1))))\n",
    "    fig.set_xlabel('# cars at second location', fontsize=30)\n",
    "    fig.set_title('policy {}'.format(iterations), fontsize=30)\n",
    "\n",
    "    # policy evaluation (in-place)\n",
    "    while True:\n",
    "        old_value = value.copy()\n",
    "        for i in range(max_cars + 1):\n",
    "            for j in range(max_cars + 1):\n",
    "                new_state_value = expected_return([i, j], policy[i, j], value, constant_returned_cars)\n",
    "                value[i, j] = new_state_value\n",
    "        max_value_change = abs(old_value - value).max()\n",
    "        print('max value change {}'.format(max_value_change))\n",
    "        if max_value_change < 1e-4:\n",
    "            break\n",
    "\n",
    "    # policy improvement\n",
    "    policy_stable = True\n",
    "    for i in range(max_cars + 1):\n",
    "        for j in range(max_cars + 1):\n",
    "            old_action = policy[i, j]\n",
    "            action_returns = []\n",
    "            for action in actions:\n",
    "                if (0 <= action <= i) or (-j <= action <= 0):\n",
    "                    action_returns.append(expected_return([i, j], action, value, constant_returned_cars))\n",
    "                else:\n",
    "                    action_returns.append(-np.inf)\n",
    "            new_action = actions[np.argmax(action_returns)] #!\n",
    "            policy[i, j] = new_action\n",
    "            if policy_stable and old_action != new_action:\n",
    "                policy_stable = False\n",
    "    print('policy stable {}'.format(policy_stable))\n",
    "\n",
    "    if policy_stable:\n",
    "        fig = sns.heatmap(np.flipud(value), cmap=\"YlGnBu\", ax=axes[-1])\n",
    "        fig.set_ylabel('# cars at first location', fontsize=30)\n",
    "        fig.set_yticks(list(reversed(range(max_cars + 1))))\n",
    "        fig.set_xlabel('# cars at second location', fontsize=30)\n",
    "        fig.set_title('optimal value', fontsize=30)\n",
    "        break\n",
    "\n",
    "    iterations += 1"
   ]
  },
  {
   "cell_type": "code",
   "execution_count": null,
   "metadata": {
    "collapsed": false,
    "jupyter": {
     "outputs_hidden": false
    }
   },
   "outputs": [],
   "source": []
  },
  {
   "cell_type": "markdown",
   "metadata": {
    "collapsed": false,
    "jupyter": {
     "outputs_hidden": false
    }
   },
   "source": [
    "---"
   ]
  },
  {
   "cell_type": "markdown",
   "metadata": {
    "collapsed": false,
    "jupyter": {
     "outputs_hidden": false
    }
   },
   "source": [
    "# 3. Frozen Lake (programming exercise)\n",
    "\n",
    "**Note:** In the exercises below, you are not given the complete implementations, but instead should try to solve the\n",
    "exercises. The scaffold is in place and all you need to do is fill in the #TODO fields.\n",
    "The solutions will be posted on Brightspace after the workgroups."
   ]
  },
  {
   "cell_type": "markdown",
   "metadata": {
    "collapsed": false,
    "jupyter": {
     "outputs_hidden": false
    }
   },
   "source": [
    "The Frozen Lake environment is a 4×4 grid which contain four possible areas  — Safe (S), Frozen (F), Hole (H) and Goal (G). The agent moves around the grid until it reaches the goal or the hole. The agent in the environment has four possible moves — Up, Down, Left and Right. If it falls into the hole, it has to start from the beginning and is rewarded the value 0.\n",
    "The process continues until it learns from every mistake and reaches the goal. Here is a visual description of the Frozen Lake grid task:\n",
    "\n",
    "![](https://raw.githubusercontent.com/yuzhenqin90/RLcourse/main/WG3/FrozenLake.png)\n",
    "\n",
    "Note that the ice is slippery, so the agent won't always move in the direction intended by the action. Specifically, there is a 1/3 chance of moving in the direction prescribed by the action and 1/3 to each orthogonal direction."
   ]
  },
  {
   "cell_type": "code",
   "execution_count": 13,
   "metadata": {
    "collapsed": false,
    "jupyter": {
     "outputs_hidden": false
    }
   },
   "outputs": [],
   "source": [
    "import gymnasium as gym\n",
    "import numpy as np\n",
    "import matplotlib.pyplot as plt"
   ]
  },
  {
   "cell_type": "code",
   "execution_count": 14,
   "metadata": {
    "collapsed": false,
    "jupyter": {
     "outputs_hidden": false
    }
   },
   "outputs": [],
   "source": [
    "def run_episodes(environment, n_episodes, policy, display=True):\n",
    "    wins = 0\n",
    "    total_reward = 0\n",
    "    for episode in range(n_episodes):\n",
    "        terminated = False\n",
    "        state = environment.reset()\n",
    "        while not terminated:\n",
    "            # Select an action to perform in a current state\n",
    "            if policy == 'random':\n",
    "                action = environment.action_space.sample()\n",
    "            else:\n",
    "                if isinstance(state, tuple):\n",
    "                    state = state[0]\n",
    "                action = np.argmax(policy[state])\n",
    "\n",
    "            # Perform an action and observe how environment acted in response\n",
    "            next_state, reward, terminated, truncated, info = environment.step(action)\n",
    "\n",
    "            # Plot the first episode\n",
    "            # if episode==1 and display:\n",
    "            #         print(\"Action:\")\n",
    "            #         environment.render() # display current agent state\n",
    "            # Summarize total reward\n",
    "            total_reward += reward\n",
    "            # Update current state\n",
    "            state = next_state\n",
    "            # Calculate number of wins over episodes\n",
    "            if terminated and reward == 1.0:\n",
    "                wins += 1\n",
    "    average_reward = total_reward / n_episodes\n",
    "    return wins, total_reward, average_reward"
   ]
  },
  {
   "cell_type": "code",
   "execution_count": 15,
   "metadata": {
    "collapsed": false,
    "jupyter": {
     "outputs_hidden": false
    }
   },
   "outputs": [
    {
     "name": "stdout",
     "output_type": "stream",
     "text": [
      "First episode:\n",
      "------------------------------------\n",
      "Summary:\n",
      "- number of wins over 5000 episodes = 61\n",
      "- average reward over 5000 episodes = 0.0122\n"
     ]
    }
   ],
   "source": [
    "# Load a Frozen Lake environment\n",
    "env = gym.make(\"FrozenLake-v1\", map_name=\"4x4\")\n",
    "# Number of episodes to play\n",
    "n_episodes = 5000\n",
    "# First episode plotted as a sample episode\n",
    "print('First episode:')\n",
    "wins, total_reward, average_reward = run_episodes(env, n_episodes, policy=\"random\")\n",
    "print('------------------------------------')\n",
    "print('Summary:')\n",
    "print(f'- number of wins over {n_episodes} episodes = {wins}')\n",
    "print(f'- average reward over {n_episodes} episodes = {average_reward}')"
   ]
  },
  {
   "cell_type": "markdown",
   "metadata": {
    "collapsed": false,
    "jupyter": {
     "outputs_hidden": false
    }
   },
   "source": [
    "## **a**) Implement the Iterative Policy Evaluation algorithm as a function to evaluate the given policy. How many iterations does the random policy need to converge?"
   ]
  },
  {
   "cell_type": "markdown",
   "metadata": {},
   "source": [
    "#### **To-do**: complete the code that updates value in the following function"
   ]
  },
  {
   "cell_type": "code",
   "execution_count": 18,
   "metadata": {
    "collapsed": false,
    "jupyter": {
     "outputs_hidden": false
    }
   },
   "outputs": [],
   "source": [
    "def policy_evaluation(policy, environment, discount_factor=1.0, theta=1e-9, max_iterations=1e9):\n",
    "    # Number of evaluation iterations\n",
    "    evaluation_iterations = 1\n",
    "    # Initialize a value function for each state as zero\n",
    "    V = np.zeros(environment.observation_space.n)\n",
    "    # Repeat until change in value is below the threshold\n",
    "    for i in range(int(max_iterations)):\n",
    "        # Initialize a change of value function as zero\n",
    "        delta = 0\n",
    "        # Iterate though each state\n",
    "        for state in range(environment.observation_space.n):\n",
    "            # Initial a new value of current state\n",
    "            v = 0\n",
    "            # Try all possible actions which can be taken from this state\n",
    "            for action, action_probability in enumerate(policy[state]):\n",
    "                # Check how good next state will be\n",
    "                for state_probability, next_state, reward, terminated in environment.P[state][action]:\n",
    "                    # Calculate the expected value\n",
    "                    # TODO complete the code below\n",
    "                    v += state_probability*action_probability*(reward+discount_factor*V[next_state])\n",
    "\n",
    "            # Calculate the absolute change of value function\n",
    "            delta = max(delta, np.abs(V[state] - v))\n",
    "            # Update value function\n",
    "            V[state] = v\n",
    "        evaluation_iterations += 1\n",
    "\n",
    "        # Terminate if value change is insignificant\n",
    "        if delta < theta:\n",
    "            print(f'Policy evaluated in {evaluation_iterations} iterations.')\n",
    "            return V"
   ]
  },
  {
   "cell_type": "code",
   "execution_count": 19,
   "metadata": {
    "collapsed": false,
    "jupyter": {
     "outputs_hidden": false
    }
   },
   "outputs": [
    {
     "name": "stdout",
     "output_type": "stream",
     "text": [
      "Policy evaluated in 66 iterations.\n"
     ]
    },
    {
     "name": "stderr",
     "output_type": "stream",
     "text": [
      "/home/andrew/.local/lib/python3.10/site-packages/gymnasium/core.py:311: UserWarning: \u001b[33mWARN: env.P to get variables from other wrappers is deprecated and will be removed in v1.0, to get this variable you can do `env.unwrapped.P` for environment variables or `env.get_wrapper_attr('P')` that will search the reminding wrappers.\u001b[0m\n",
      "  logger.warn(\n"
     ]
    },
    {
     "data": {
      "text/plain": [
       "array([0.01393979, 0.01163093, 0.02095298, 0.01047649, 0.01624866,\n",
       "       0.        , 0.04075154, 0.        , 0.0348062 , 0.08816993,\n",
       "       0.14205316, 0.        , 0.        , 0.17582037, 0.43929118,\n",
       "       0.        ])"
      ]
     },
     "execution_count": 19,
     "metadata": {},
     "output_type": "execute_result"
    }
   ],
   "source": [
    "policy = {s: [1./env.action_space.n for _ in range(env.action_space.n)] for s in range(env.observation_space.n)}\n",
    "policy_evaluation(policy=policy, environment=env)"
   ]
  },
  {
   "cell_type": "markdown",
   "metadata": {
    "collapsed": false,
    "jupyter": {
     "outputs_hidden": false
    }
   },
   "source": [
    "## **b**) Using your Policy Evaluation function from (a), implement the Policy iteration algorithm. Run the Policy iteration to obtain the optimal policy for the `FrozenLake-v1` environment."
   ]
  },
  {
   "cell_type": "code",
   "execution_count": 20,
   "metadata": {
    "collapsed": false,
    "jupyter": {
     "outputs_hidden": false
    }
   },
   "outputs": [],
   "source": [
    "def one_step_lookahead(environment, state, V, discount_factor):\n",
    "    action_values = np.zeros(environment.action_space.n)\n",
    "    for action in range(environment.action_space.n):\n",
    "        for probability, next_state, reward, terminated in environment.P[state][action]:\n",
    "            action_values[action] += probability * (reward + discount_factor * V[next_state])\n",
    "    return action_values"
   ]
  },
  {
   "cell_type": "markdown",
   "metadata": {},
   "source": [
    "### **To-do**: complete the code that chooses greedy actions (current action or improving policy) in the following function"
   ]
  },
  {
   "cell_type": "code",
   "execution_count": null,
   "metadata": {
    "collapsed": false,
    "jupyter": {
     "outputs_hidden": false
    }
   },
   "outputs": [],
   "source": [
    "def policy_iteration(environment, discount_factor=1.0, max_iterations=1e9):\n",
    "    # Start with a random policy\n",
    "    #num states x num actions / num actions\n",
    "    policy = {s: [1./env.action_space.n for _ in range(env.action_space.n)] for s in range(env.observation_space.n)}\n",
    "    # Initialize counter of evaluated policies\n",
    "    evaluated_policies = 1\n",
    "    # Repeat until convergence or critical number of iterations reached\n",
    "    for i in range(int(max_iterations)):\n",
    "        stable_policy = True\n",
    "        # Evaluate current policy\n",
    "        V = policy_evaluation(policy, environment, discount_factor=discount_factor)\n",
    "        # Go through each state and try to improve actions that were taken (policy Improvement)\n",
    "        for state in range(environment.observation_space.n):\n",
    "            # Choose the best action in a current state under current policy\n",
    "            # # TODO complete the code below\n",
    "            current_action = policy[state]\n",
    "            # Look one step ahead and evaluate if current action is optimal\n",
    "            # We will try every possible action in a current state\n",
    "            action_value = one_step_lookahead(environment, state, V, discount_factor)\n",
    "            # Select a better action\n",
    "            # # TODO complete the code below\n",
    "            best_action = \n",
    "            # If action didn't change\n",
    "            if current_action != best_action:\n",
    "                stable_policy = False\n",
    "                # Greedy policy update\n",
    "                policy[state] = np.eye(environment.action_space.n)[best_action]\n",
    "        evaluated_policies += 1\n",
    "        # If the algorithm converged and policy is not changing anymore, then return final policy and value function\n",
    "        if stable_policy:\n",
    "            # print(policy)\n",
    "            return policy, V"
   ]
  },
  {
   "cell_type": "code",
   "execution_count": null,
   "metadata": {
    "collapsed": false,
    "jupyter": {
     "outputs_hidden": false
    }
   },
   "outputs": [],
   "source": [
    "# Number of episodes to play\n",
    "n_episodes = 1000\n",
    "iteration_name = \"Policy iteration\"\n",
    "iteration_func = policy_iteration\n",
    "# Load a Frozen Lake environment\n",
    "env = gym.make(\"FrozenLake-v1\", map_name=\"4x4\")\n",
    "# Search for an optimal policy using policy iteration\n",
    "policy, V = iteration_func(env)\n",
    "# Apply the best policy to the real environment\n",
    "wins, total_reward, average_reward = run_episodes(env, n_episodes, policy)\n",
    "print(f'{iteration_name}: number of wins over {n_episodes} episodes = {wins}')\n",
    "print(f'{iteration_name}: average reward over {n_episodes} episodes = {average_reward} \\n\\n')"
   ]
  },
  {
   "cell_type": "markdown",
   "metadata": {
    "collapsed": false,
    "jupyter": {
     "outputs_hidden": false
    }
   },
   "source": [
    "### **c**) Implement the Value iteration algorithm. Run the algorithm to obtain the optimal policy for the `FrozenLake-v1` environment."
   ]
  },
  {
   "cell_type": "code",
   "execution_count": null,
   "metadata": {
    "collapsed": false,
    "jupyter": {
     "outputs_hidden": false
    }
   },
   "outputs": [],
   "source": [
    "def value_iteration(environment, discount_factor=1.0, theta=1e-9, max_iterations=1e9):\n",
    "    # Initialize state-value function with zeros for each environment state\n",
    "    V = np.zeros(environment.observation_space.n)\n",
    "    for i in range(int(max_iterations)):\n",
    "        # Early stopping condition\n",
    "        delta = 0\n",
    "        # Update each state\n",
    "        for state in range(environment.observation_space.n):\n",
    "            # Do a one-step lookahead to calculate state-action values\n",
    "            action_value = one_step_lookahead(environment, state, V, discount_factor)\n",
    "            # Select best action to perform based on the highest state-action value\n",
    "            #  TODO complete the code below\n",
    "            best_action_value =             \n",
    "            # Calculate change in value\n",
    "            delta = max(delta, np.abs(V[state] - best_action_value))\n",
    "            # Update the value function for current state\n",
    "            V[state] = best_action_value\n",
    "            # Check if we can stop\n",
    "        if delta < theta:\n",
    "            print(f'Value-iteration converged at iteration #{i}.')\n",
    "            break\n",
    "\n",
    "    # Create a deterministic policy using the optimal value function\n",
    "    # policy = np.zeros([environment.observation_space.n, environment.action_space.n])\n",
    "    policy = {s: [0 for _ in range(env.action_space.n)] for s in range(env.observation_space.n)}\n",
    "    for state in range(environment.observation_space.n):\n",
    "        # One step lookahead to find the best action for this state\n",
    "        action_value = one_step_lookahead(environment, state, V, discount_factor)\n",
    "        # Select best action based on the highest state-action value\n",
    "        # TODO complete the code below\n",
    "        best_action = \n",
    "        # Update the policy to perform a better action at a current state\n",
    "        policy[state][best_action] = 1.0\n",
    "    return policy, V"
   ]
  },
  {
   "cell_type": "code",
   "execution_count": null,
   "metadata": {
    "collapsed": false,
    "jupyter": {
     "outputs_hidden": false
    }
   },
   "outputs": [],
   "source": [
    "# Number of episodes to play\n",
    "n_episodes = 1000\n",
    "iteration_name = \"Value iteration\"\n",
    "iteration_func = value_iteration\n",
    "# Load a Frozen Lake environment\n",
    "environment = gym.make('FrozenLake-v1')\n",
    "# Search for an optimal policy using policy iteration\n",
    "policy, V = iteration_func(environment)\n",
    "# Apply the best policy to the real environment\n",
    "wins, total_reward, average_reward = run_episodes(environment, n_episodes, policy)\n",
    "print(f'{iteration_name}: number of wins over {n_episodes} episodes = {wins}')\n",
    "print(f'{iteration_name}: average reward over {n_episodes} episodes = {average_reward} \\n\\n')"
   ]
  },
  {
   "cell_type": "markdown",
   "metadata": {
    "collapsed": false,
    "jupyter": {
     "outputs_hidden": false
    }
   },
   "source": [
    "**d**) Compare two optimal policies in part (b) and (c). Which seems to converge faster and why?\n"
   ]
  },
  {
   "cell_type": "markdown",
   "metadata": {},
   "source": []
  },
  {
   "cell_type": "code",
   "execution_count": null,
   "metadata": {
    "collapsed": false,
    "jupyter": {
     "outputs_hidden": false
    }
   },
   "outputs": [],
   "source": [
    "# Number of episodes to play\n",
    "n_episodes = 5000\n",
    "# Functions to find best policy\n",
    "solvers = [('Policy Iteration', policy_iteration),\n",
    "           ('Value Iteration', value_iteration)]\n",
    "for iteration_name, iteration_func in solvers:\n",
    "    # Load a Frozen Lake environment\n",
    "    environment = gym.make(\"FrozenLake-v1\", map_name=\"4x4\")\n",
    "    # Search for an optimal policy using policy iteration\n",
    "    policy, V = iteration_func(environment.env)\n",
    "    # Apply the best policy to the real environment\n",
    "    wins, total_reward, average_reward = run_episodes(environment, n_episodes, policy, display=False)\n",
    "    print(f'{iteration_name} :: number of wins over {n_episodes} episodes = {wins}')\n",
    "    print(f'{iteration_name} :: average reward over {n_episodes} episodes = {average_reward} \\n\\n')"
   ]
  },
  {
   "cell_type": "code",
   "execution_count": null,
   "metadata": {
    "collapsed": false,
    "jupyter": {
     "outputs_hidden": false
    }
   },
   "outputs": [],
   "source": []
  },
  {
   "cell_type": "markdown",
   "metadata": {
    "collapsed": false,
    "jupyter": {
     "outputs_hidden": false
    }
   },
   "source": [
    "---\n",
    "## 4. Grid world interactive demo\n",
    "\n",
    "This third example, which you can use following [this link](https://cs.stanford.edu/people/karpathy/reinforcejs/gridworld_dp.html), implements the concepts of dynamic programming in an interactive way. The details of the demo are explained below. Explore the example and how different choices of rewards, discounting factors and policy improvement methods influence the results.\n",
    "\n",
    "#### Brief description\n",
    "<img alt=\"Grid world MDP\" height=\"500\" src=\"https://raw.githubusercontent.com/yuzhenqin90/RLcourse/main/WG3/GridWorldDemo.png\" title=\"Grid World\" width=\"500\"/>\n",
    "\n",
    "**State space**: This GridWorld has 10x10 = 100 distinct states. The start state is the top left cell. The gray cells are walls and cannot be moved to.\n",
    "**Actions**: The agent can choose from up to 4 actions (left, right, down, up) to move around.\n",
    "**Environment Dynamics**: GridWorld is deterministic, leading to the same new state given each state and action.\n",
    "**Rewards**: The agent receives +1 reward when it is in the center square (the one that shows R 1.0), and -1 reward in a few states (R -1.0 is shown for these). The state with +1.0 reward is the goal state and resets the agent back to start.\n",
    "The goal is to find an agent policy (shown here by arrows) that maximizes the future discounted reward. You can run the Policy Evaluation, Policy Improvement, and Value Iteration algorithms to see updates of state values.\n",
    "\n",
    "*Note*: you can select any cell and change its reward with the Cell reward slider. For example, let Value iteration converge, then change the cell rewards and watch the policy adjustments."
   ]
  },
  {
   "cell_type": "code",
   "execution_count": null,
   "metadata": {
    "collapsed": false,
    "jupyter": {
     "outputs_hidden": false
    }
   },
   "outputs": [],
   "source": []
  }
 ],
 "metadata": {
  "kernelspec": {
   "display_name": "Python 3 (ipykernel)",
   "language": "python",
   "name": "python3"
  },
  "language_info": {
   "codemirror_mode": {
    "name": "ipython",
    "version": 3
   },
   "file_extension": ".py",
   "mimetype": "text/x-python",
   "name": "python",
   "nbconvert_exporter": "python",
   "pygments_lexer": "ipython3",
   "version": "3.10.12"
  }
 },
 "nbformat": 4,
 "nbformat_minor": 4
}
