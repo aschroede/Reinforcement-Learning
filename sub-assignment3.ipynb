{
 "cells": [
  {
   "cell_type": "markdown",
   "metadata": {},
   "source": [
    "## Sub-assignment 3:  Monte Carlo Methods *(2 points)*\n",
    "\n"
   ]
  },
  {
   "cell_type": "markdown",
   "metadata": {},
   "source": [
    "# Introduction\n",
    "\n",
    "This Jupyter Notebook explores the implementation of Monte Carlo methods for solving Markov Decision Processes (MDPs). \n",
    "\n",
    "In this notebook, we will focus on the episodic version of MDPs, where the agent interacts with the environment in discrete episodes. We will start by defining a simple MDP called CircleWorld, which has a finite number of states and actions. \n",
    "\n",
    "We will then implement Monte Carlo methods for both prediction and control. For prediction, we will estimate the state-value function for the optimal policy using an on-policy, first-visit Monte Carlo algorithm. For control, we will optimize the policy using an on-policy, first-visit Monte Carlo algorithm and epsilon-greedy action selection.\n",
    "\n",
    "Let's get started!"
   ]
  },
  {
   "cell_type": "markdown",
   "metadata": {},
   "source": [
    "## Prerequisite"
   ]
  },
  {
   "cell_type": "markdown",
   "metadata": {},
   "source": [
    "This sub-assignment is built on top of the previous sub-assignments, so it is important to complete them before, and utilize defined components in this sub-assignment. \n"
   ]
  },
  {
   "cell_type": "code",
   "execution_count": 34,
   "metadata": {},
   "outputs": [],
   "source": [
    "import numpy as np\n",
    "import pandas as pd\n",
    "import matplotlib.pyplot as plt\n",
    "import copy\n",
    "import time"
   ]
  },
  {
   "cell_type": "markdown",
   "metadata": {},
   "source": [
    "For this exercise, we will use the *episodic* version of the MDP (`mdpe` instantiated below)."
   ]
  },
  {
   "cell_type": "code",
   "execution_count": 35,
   "metadata": {},
   "outputs": [],
   "source": [
    "class CircleWorld():\n",
    "\t\"\"\"\n",
    "\tGeneric base class for MDPs with finite state, action and reward spaces\n",
    "\t\"\"\"\n",
    "\tdef __init__(self, n_states, n_actions, reward, task, gamma=1.0, state_labels=None, action_labels=None):\n",
    "\t\t\"\"\"\n",
    "\t\tn_states: number of states [0,...,N-1]\n",
    "\t\tn_actions: number of actions [0,...,N-1]\n",
    "\t\treward: reward values\n",
    "\t\ttask: episodic or continuing\n",
    "\t\tgamma: discounting factor\n",
    "\t\t\"\"\"\n",
    "\t\tself.n_states = n_states\n",
    "\t\tself.n_actions = n_actions\n",
    "\t\tself.state_labels = state_labels or np.arange(self.n_states)\n",
    "\t\tself.action_labels = action_labels or np.arange(self.n_actions)\n",
    "\t\tself.n_rewards = len(reward)\n",
    "\t\tself.reward = reward\n",
    "\t\tassert(task == 'episodic' or task == 'continuing')\n",
    "\t\tself.task = task\n",
    "\t\tself.gamma = gamma\n",
    "\n",
    "\tdef reset(self):\n",
    "\t\t\"\"\"\n",
    "\t\tSample initial state at start of the episode; assumed uniform\n",
    "\t\t\"\"\"\n",
    "\t\treturn np.random.randint(self.n_states)\n",
    "\n",
    "\tdef p_transition(self, s, a, s1, r):\n",
    "\t\t\"\"\"\n",
    "\t\tTransition density s x a => s1 x r\n",
    "\t\t\"\"\"\n",
    "\t\t# This only works for deterministic state transitions; otherwise override\n",
    "\t\treturn np.float64((s1, r) == self.step(s, a))\n",
    "\n",
    "\tdef step(self, s, a):\n",
    "\t\t\"\"\"\n",
    "\t\tSample new state and reward when starting in s and taking action a\n",
    "\t\t:return new_state, reward_index: note that there are 3\n",
    "\t\t\"\"\"\n",
    "\t\ts1 = (s + 2 * a - 1) % self.n_states  # takes one step left or right\n",
    "\t\tif s1 == 0:\n",
    "\t\t\tr = 0\n",
    "\t\telse:\n",
    "\t\t\tr = 1\n",
    "\t\treturn s1, r\n",
    "\n",
    "\tdef sample_action(self, state, policy):\n",
    "\t\t# sample action from policy for a given state\n",
    "\t\treturn np.random.choice(np.arange(self.n_actions), p=policy[state])\n",
    "\n",
    "\tdef sample_episode(self, policy, T=None):\n",
    "\t\t\"\"\"\n",
    "\t\tSample a finite horizon sequence from an MDP using some policy\n",
    "\t\tIf the tasks is continuing then we sample exactly T steps\n",
    "\t\tIf the task is episodic then we sample exactly one episode or reset until we sample T steps\n",
    "\t\t\"\"\"\n",
    "\t\t# sequence element is state, action, reward\n",
    "\t\tseq = []\n",
    "\t\t# randomly sample initial state NOTE: For exploring starts we would need to sample both states and actions. This is not needed for epsilon-greedy policies\n",
    "\t\ts = self.reset()\n",
    "\n",
    "\t\tif self.task == 'continuing':\n",
    "\t\t\tassert (T is not None)\n",
    "\t\t\tfor t in range(T):\n",
    "\t\t\t\ta = self.sample_action(s, policy)\n",
    "\t\t\t\t(s1, r) = self.step(s, a)\n",
    "\t\t\t\tseq.append([s, a, self.reward[r]])\n",
    "\t\t\t\ts = s1\n",
    "\t\telse:\n",
    "\t\t\tt = 0\n",
    "\t\t\twhile True:\n",
    "\n",
    "\t\t\t\tif T is None and self.is_terminal(s):\n",
    "\t\t\t\t\tbreak\n",
    "\t\t\t\telif t == T:\n",
    "\t\t\t\t\tbreak\n",
    "\n",
    "\t\t\t\ta = self.sample_action(s, policy)\n",
    "\t\t\t\tif self.is_terminal(s):\n",
    "\t\t\t\t\ts1 = self.reset()\n",
    "\t\t\t\t\tr = 0\n",
    "\t\t\t\telse:\n",
    "\t\t\t\t\t(s1, r) = self.step(s, a)\n",
    "\t\t\t\tseq.append([s, a, self.reward[r]])\n",
    "\t\t\t\ts = s1\n",
    "\t\t\t\tt = t+1\n",
    "\t\treturn seq\n",
    "\n",
    "\tdef optimal_policy(self):\n",
    "\t\t\"\"\"\n",
    "\t\tFor this simple task, the optimal policy is just to move to state zero as quickly as possible\n",
    "\t\tand then flip back and forth\n",
    "\t\t\"\"\"\n",
    "\t\tpolicy = np.zeros([self.n_states, self.n_actions])\n",
    "\t\tn = int(np.round(self.n_states/2))\n",
    "\t\tpolicy[:n, 0] = 1.0\n",
    "\t\tpolicy[n:, 1] = 1.0\n",
    "\t\tpolicy[self.terminal_states(), :] = 1.0 / self.n_actions\n",
    "\t\treturn policy\n",
    "\n",
    "\tdef random_deterministic_policy(self):\n",
    "\t\t\"\"\"\n",
    "\t\tRandom choice of a deterministic action for each state\n",
    "\t\t\"\"\"\n",
    "\t\treturn np.random.multinomial(1, [1.0 / self.n_actions for a in range(self.n_actions)], self.n_states).astype('float32')\n",
    "\n",
    "\tdef nonterminal_states(self):\n",
    "\t\t\"\"\"\n",
    "\t\t:return: The set S of nonterminal states\n",
    "\t\t\"\"\"\n",
    "\t\treturn [s for s in range(self.n_states) if not self.is_terminal(s)]\n",
    "\n",
    "\tdef terminal_states(self):\n",
    "\t\t\"\"\"\n",
    "\t\t:return: The set S of terminal states\n",
    "\t\t\"\"\"\n",
    "\t\treturn [s for s in range(self.n_states) if self.is_terminal(s)]\n",
    "\n",
    "\tdef is_terminal(self, s):\n",
    "\t\t\"\"\"\n",
    "\t\tflags if s is a terminal state\n",
    "\t\t\"\"\"\n",
    "\t\tif self.task == \"episodic\":\n",
    "\t\t\treturn s == 0\n",
    "\t\telse:\n",
    "\t\t\treturn False\n",
    "\n",
    "\tdef q_to_v(self, q, policy):\n",
    "\t\t\"\"\"\n",
    "\t\tConvert Q-value to state value\n",
    "\t\t:param q:\n",
    "\t\t:param policy:\n",
    "\t\t:return:\n",
    "\t\t\"\"\"\n",
    "\t\tv = np.zeros(self.n_states)\n",
    "\t\tfor s in self.nonterminal_states():\n",
    "\t\t\tfor a in range(self.n_actions):\n",
    "\t\t\t\tv[s] += policy[s, a] * q[s, a]\n",
    "\t\treturn v\n",
    "\n",
    "\tdef v_to_q(self, v):\n",
    "\t\t\"\"\"\n",
    "\t\tConvert state value to Q-value\n",
    "\t\t:param v:\n",
    "\t\t:return:\n",
    "\t\t\"\"\"\n",
    "\t\tq = np.zeros([self.n_states, self.n_actions])\n",
    "\t\tfor s in self.nonterminal_states():\n",
    "\t\t\tfor a in range(self.n_actions):\n",
    "\t\t\t\tq[s, a] = sum(self.p_transition(s, a, s1, r) * (self.reward[r] + self.gamma * v[s1])\n",
    "\t\t\t\t              for s1 in range(self.n_states) for r in range(self.n_rewards))\n",
    "\t\treturn q\n",
    "\n",
    "\t# some simple rendering methods\n",
    "\tdef __str__(self):\n",
    "\t\tstr = \"task: {0}\\n\".format(self.task)\n",
    "\t\tstr += \"states: {0}\\n\".format(self.state_labels)\n",
    "\t\tif self.terminal_states():\n",
    "\t\t\tstr += \"terminal states: {0}\\n\".format(self.terminal_states())\n",
    "\t\tstr += \"actions: {0}\\n\".format(self.action_labels)\n",
    "\t\tstr += \"rewards: {0}\\n\".format(self.reward)\n",
    "\t\tstr += \"discounting factor: {0}\".format(self.gamma)\n",
    "\t\treturn str\n",
    "\n",
    "\tdef print_policy(self, policy):\n",
    "\t\tfor s in range(self.n_states):\n",
    "\t\t\ta = np.random.choice(np.arange(self.n_actions), p=policy[s])\n",
    "\t\t\tprint('state ' + str(self.state_labels[s]) + ' => action ' + str(self.action_labels[a]))\n",
    "\n",
    "\tdef print_value(self, vf):\n",
    "\t\t\"\"\"\n",
    "\t\t:param vf: state value or action value function\n",
    "\t\t\"\"\"\n",
    "\t\tif vf.ndim == 1:\n",
    "\t\t\tfor s in range(self.n_states):\n",
    "\t\t\t\tprint('state ' + str(self.state_labels[s]) + ': ' + str(vf[s]))\n",
    "\t\telse:\n",
    "\t\t\tfor s in range(self.n_states):\n",
    "\t\t\t\tfor a in range(self.n_actions):\n",
    "\t\t\t\t\tprint('state ' + str(self.state_labels[s]) + ' - action ' + str(self.action_labels[a] + ': ' + str(vf[s,a])))"
   ]
  },
  {
   "cell_type": "code",
   "execution_count": 36,
   "metadata": {},
   "outputs": [
    {
     "name": "stdout",
     "output_type": "stream",
     "text": [
      "task: episodic\n",
      "states: [0 1 2 3 4 5 6 7 8 9]\n",
      "terminal states: [0]\n",
      "actions: ['L', 'R']\n",
      "rewards: [1.0, -0.1111111111111111]\n",
      "discounting factor: 1.0\n"
     ]
    }
   ],
   "source": [
    "mdpe = CircleWorld(n_states=10, n_actions=2, reward=[1.0, -1.0 /(10 - 1)], task='episodic', gamma=1.,\n",
    "                   state_labels=None, action_labels=['L', 'R'])\n",
    "print(mdpe)"
   ]
  },
  {
   "cell_type": "markdown",
   "metadata": {},
   "source": [
    "**a**) Why do we need to use an *episodic* task? (0.2 point)\n",
    "\n",
    "We use an episodic task to ensure that well defined returns are available - value estimates and policies are only updated after the completion of a full episode. This allows Monte Carlo methods to update in an episode-by-episode manner, but not in a step-by-step (online) manner. If a continuous task were used it would be difficult to decide when the value function and policy should be updated."
   ]
  },
  {
   "cell_type": "markdown",
   "metadata": {},
   "source": [
    "**b**) **MC Prediction** (0.9 point): Implement an *on-policy, first-visit MC* algorithm to estimate the state-value function for\n",
    "the optimal policy\n",
    ". This should be provided as a function `mc_prediction` that takes in the initial policy and\n",
    " a parameter specifying how many sample episodes to run. Use your implementation to calculate the approximate state\n",
    " value function $V_{\\pi}$ for the optimal policy $\\pi_{*}$. Plot the MSE between the estimated value function and the\n",
    "  true optimal $v_{*}$ as a function of number of episodes, i.e. how the accuracy of the estimate evolves across\n",
    "  episodes."
   ]
  },
  {
   "cell_type": "code",
   "execution_count": 52,
   "metadata": {},
   "outputs": [],
   "source": [
    "def find_reversed_first_visits(episode):\n",
    "\tfirst_visits = {}\n",
    "\tvisited_states = set()\n",
    "\n",
    "\tfor index, step in enumerate(episode):\n",
    "\t\tstate, action, reward = step\n",
    "\t\tif state not in visited_states:\n",
    "\t\t\tvisited_states.add(state)\n",
    "\t\t\tfirst_visits[state] = len(episode)- 1 - index\n",
    "\n",
    "\treturn first_visits\n",
    "\n",
    "\n",
    "\n",
    "def mc_prediction(mdp: CircleWorld, policy, num_simulations=30):\n",
    "\t# Conditions for convergence\n",
    "\tassert(mdp.task == 'episodic')\n",
    "\t\n",
    "\n",
    "\tVs = []\n",
    "\tV = [0 for i in range(10)]\n",
    "\tReturns = [0 for i in range(10)]\n",
    "\tCounts= [0 for i in range(10)]\n",
    "\n",
    "\t# Generating num_simulations episodes\n",
    "\tfor i in range(num_simulations):\n",
    "\n",
    "\t\t# Generate new episode\n",
    "\t\tepisode = mdp.sample_episode(policy)\n",
    "\n",
    "\t\t# Determine first-visit timestep for each state\n",
    "\t\tfirst_visits = find_reversed_first_visits(episode)\n",
    "\n",
    "\t\tG = 0\n",
    "\t\t\n",
    "\t\t# Iterating over steps in an episode\n",
    "\t\tfor timestep, step in enumerate(reversed(episode)):\n",
    "\t\t\tstate, action, reward = step\n",
    "\n",
    "\t\t\tG = G*mdp.gamma + reward\n",
    "\n",
    "\t\t\t# If this is the first time state is observed in sequence, then add to Returns\n",
    "\t\t\tif timestep == first_visits[state]:\n",
    "\t\t\t\tReturns[state] += G\n",
    "\t\t\t\tCounts[state] += 1\n",
    "\t\t\t\tV[state] = Returns[state]/Counts[state]\n",
    "\n",
    "\t\tVs.append(V.copy())\n",
    "\n",
    "\treturn V, Vs"
   ]
  },
  {
   "cell_type": "code",
   "execution_count": 97,
   "metadata": {},
   "outputs": [
    {
     "name": "stdout",
     "output_type": "stream",
     "text": [
      "[0, 1.0, 0.8888888888888892, 0.7777777777777777, 0.6666666666666665, 0.5555555555555554, 0.6666666666666665, 0.7777777777777777, 0.8888888888888892, 1.0]\n"
     ]
    }
   ],
   "source": [
    "policy = mdpe.optimal_policy()\n",
    "\n",
    "V, value_functions_mc = mc_prediction(mdpe, policy, num_simulations=30)\n",
    "print(V)"
   ]
  },
  {
   "cell_type": "code",
   "execution_count": 95,
   "metadata": {},
   "outputs": [
    {
     "name": "stdout",
     "output_type": "stream",
     "text": [
      "Did not converge\n",
      "[887.88888889 888.88888889 888.77777778 888.66666667 888.55555556\n",
      " 884.88888889 885.88888889 886.88888889 887.88888889 888.88888889]\n",
      "[ 0  1  2  3  4  5  6  7  8  9 10 11 12 13 14 15 16 17 18 19 20 21 22 23\n",
      " 24 25 26 27 28 29]\n"
     ]
    },
    {
     "data": {
      "text/plain": [
       "Text(0.5, 1.0, 'State value')"
      ]
     },
     "execution_count": 95,
     "metadata": {},
     "output_type": "execute_result"
    },
    {
     "data": {
      "image/png": "[encoded data removed]",
      "text/plain": [
       "<Figure size 864x288 with 1 Axes>"
      ]
     },
     "metadata": {
      "needs_background": "light"
     },
     "output_type": "display_data"
    }
   ],
   "source": [
    "# plots\n",
    "# Somehow need to get the true value of the optimal policy to compare it with the value of the approximation from MC\n",
    "fig, ax = plt.subplots(1, 1, figsize=(12, 4))\n",
    "pi_e = mdpe.optimal_policy()\n",
    "\n",
    "# True values seem to be messed up here... not sure why the \n",
    "V_e = policy_evaluation(mdpe, pi_e, max_t=1000)\n",
    "print(V_e)\n",
    "\n",
    "time_axis_pi = np.arange(len(value_functions_mc))\n",
    "print(time_axis_pi)\n",
    "ax.plot(time_axis_pi, list(map(lambda x: np.mean((x - V_e)**2), value_functions_mc)), '-o', label='policy iteration')\n",
    "ax.set_xlabel('Episodes')\n",
    "ax.set_ylabel('MSE')\n",
    "ax.set_title('State value')\n"
   ]
  },
  {
   "cell_type": "markdown",
   "metadata": {},
   "source": [
    "**c**) **MC Control** (0.9 point): Implement an *on-policy, first-visit MC* algorithm to optimize the policy. To do this, you will\n",
    "need to\n",
    "estimate the Q-value function (computing returns after first visit to state-action pairs) and use it to take an\n",
    "$\\epsilon$-greedy action selection to gradually improve the policy. This should be provided as a function\n",
    "`mc_control` that takes in the initial policy, the number of episodes to use and `epsilon` to set the mininum action\n",
    "probability. Run for 200 episodes and plot the MSE between the estimated q-value function and the\n",
    "  true optimal $q_{*}$ as a function of number of episodes. Note: you can obtain the $q_{*}$ from\n",
    "$v_{*}$ using the method `mdpe.v_to_q()`."
   ]
  },
  {
   "cell_type": "code",
   "execution_count": 40,
   "metadata": {},
   "outputs": [],
   "source": [
    "def mc_control(mdp, policy, num_simulations=30, epsilon=0.01):\n",
    "\t\"\"\"\n",
    "\tRun the Monte Carlo First Visit On-Policy algorithm and return the estimated\n",
    "\tpolicy, Q (state action) values, and returns (rewards) dict.\n",
    "\tUses epsilon-soft policies instead of exploring starts\n",
    "\t:param mdp:\n",
    "\t:param policy: any epsilon soft policy; e.g. mdp.uniform_stochastic_policy()\n",
    "\t:param num_simulations : int Number of episodes for the policy iteration process\n",
    "\t:param epsilon: epsilon-soft minimum probability\n",
    "\n",
    "\t:return policy: numpy.ndarray Estimated Policy\n",
    "\t:return Q: numpy.ndarray Estimated Q (state-action) values\n",
    "\t:return R: dict Returns obtained for every state\n",
    "\t\"\"\"\n",
    "\t# Conditions for convergence\n",
    "\tassert(mdp.task == 'episodic')\n",
    "\n",
    "\tQ = np.zeros([mdp.n_states, mdp.n_actions])\n",
    "\n",
    "\t# TODO\n",
    "\n",
    "\treturn policy, Qs"
   ]
  },
  {
   "cell_type": "markdown",
   "metadata": {},
   "source": [
    "compare with uniform stochastic policy in the previous part"
   ]
  },
  {
   "cell_type": "code",
   "execution_count": 41,
   "metadata": {},
   "outputs": [
    {
     "ename": "NameError",
     "evalue": "name 'uniform_stochastic_policy' is not defined",
     "output_type": "error",
     "traceback": [
      "\u001b[0;31m---------------------------------------------------------------------------\u001b[0m",
      "\u001b[0;31mNameError\u001b[0m                                 Traceback (most recent call last)",
      "\u001b[0;32m/tmp/ipykernel_23668/2449186772.py\u001b[0m in \u001b[0;36m<module>\u001b[0;34m\u001b[0m\n\u001b[0;32m----> 1\u001b[0;31m \u001b[0mpolicy0\u001b[0m \u001b[0;34m=\u001b[0m \u001b[0muniform_stochastic_policy\u001b[0m\u001b[0;34m(\u001b[0m\u001b[0mmdpe\u001b[0m\u001b[0;34m.\u001b[0m\u001b[0mn_states\u001b[0m\u001b[0;34m,\u001b[0m \u001b[0mmdpe\u001b[0m\u001b[0;34m.\u001b[0m\u001b[0mn_actions\u001b[0m\u001b[0;34m)\u001b[0m\u001b[0;34m\u001b[0m\u001b[0;34m\u001b[0m\u001b[0m\n\u001b[0m\u001b[1;32m      2\u001b[0m \u001b[0mpolicy_mc\u001b[0m\u001b[0;34m,\u001b[0m \u001b[0mQs_mc\u001b[0m \u001b[0;34m=\u001b[0m \u001b[0mmc_control\u001b[0m\u001b[0;34m(\u001b[0m\u001b[0mmdpe\u001b[0m\u001b[0;34m,\u001b[0m \u001b[0mpolicy0\u001b[0m\u001b[0;34m,\u001b[0m \u001b[0mnum_simulations\u001b[0m\u001b[0;34m=\u001b[0m\u001b[0;36m10000\u001b[0m\u001b[0;34m,\u001b[0m \u001b[0mepsilon\u001b[0m\u001b[0;34m=\u001b[0m\u001b[0;36m0.01\u001b[0m\u001b[0;34m)\u001b[0m\u001b[0;34m\u001b[0m\u001b[0;34m\u001b[0m\u001b[0m\n",
      "\u001b[0;31mNameError\u001b[0m: name 'uniform_stochastic_policy' is not defined"
     ]
    }
   ],
   "source": [
    "policy0 = uniform_stochastic_policy(mdpe.n_states, mdpe.n_actions)\n",
    "policy_mc, Qs_mc = mc_control(mdpe, policy0, num_simulations=10000, epsilon=0.01)"
   ]
  },
  {
   "cell_type": "code",
   "execution_count": null,
   "metadata": {},
   "outputs": [],
   "source": [
    "# plots"
   ]
  }
 ],
 "metadata": {
  "kernelspec": {
   "display_name": ".venv",
   "language": "python",
   "name": "python3"
  },
  "language_info": {
   "codemirror_mode": {
    "name": "ipython",
    "version": 3
   },
   "file_extension": ".py",
   "mimetype": "text/x-python",
   "name": "python",
   "nbconvert_exporter": "python",
   "pygments_lexer": "ipython3",
   "version": "3.10.12"
  }
 },
 "nbformat": 4,
 "nbformat_minor": 2
}
